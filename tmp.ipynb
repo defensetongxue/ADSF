{
 "cells": [
  {
   "cell_type": "code",
   "execution_count": 1,
   "metadata": {},
   "outputs": [
    {
     "name": "stdout",
     "output_type": "stream",
     "text": [
      "Loading ./data/citeseer/ dataset...\n"
     ]
    },
    {
     "name": "stderr",
     "output_type": "stream",
     "text": [
      "c:\\Users\\guoyi\\Documents\\MyFiles\\Code\\secientificResearch\\ADSF\\utils_nhop_neighbours.py:160: DtypeWarning: Columns (0) have mixed types. Specify dtype option on import or set low_memory=False.\n",
      "  data_content = pd.read_csv('./data/citeseer/citeseer.content',sep='\\t',header=None)\n"
     ]
    },
    {
     "name": "stdout",
     "output_type": "stream",
     "text": [
      "totally 3312 nodes, 3187 edges.\n",
      "finish loading the data, begin to calculate distance matrix\n",
      "calculate distance matrix with floyd algorthm\n",
      "finshed calculate distance matrix, begin to calculate ri_index and ri_all\n",
      "finshed calculate ri_index and ri_all, begin to calculate adj_delta\n"
     ]
    }
   ],
   "source": [
    "from utils_nhop_neighbours import load_data\n",
    "adj, features,  idx_train, idx_val, idx_test,labels ,adj_ad= load_data('./data/citeseer/')\n",
    "#adj_ad 3312"
   ]
  },
  {
   "cell_type": "code",
   "execution_count": 2,
   "metadata": {},
   "outputs": [
    {
     "data": {
      "text/plain": [
       "3312"
      ]
     },
     "execution_count": 2,
     "metadata": {},
     "output_type": "execute_result"
    }
   ],
   "source": [
    "import pickle as pkl\n",
    "f=open('interdata/distanceMatrix.pkl','rb')\n",
    "distense=pkl.load(f)\n",
    "len(distense)"
   ]
  },
  {
   "cell_type": "code",
   "execution_count": 5,
   "metadata": {},
   "outputs": [],
   "source": [
    "import numpy as np\n",
    "for i in distense.flatten():\n",
    "    if i !=np.float('inf') and i!=0 and i !=1:\n",
    "        print(i)"
   ]
  }
 ],
 "metadata": {
  "interpreter": {
   "hash": "ca457ca16272b85c978dbfca3c202f5bce62be3e46d9a573dabfb713afdf41cc"
  },
  "kernelspec": {
   "display_name": "Python 3.6.13 ('ADSF')",
   "language": "python",
   "name": "python3"
  },
  "language_info": {
   "codemirror_mode": {
    "name": "ipython",
    "version": 3
   },
   "file_extension": ".py",
   "mimetype": "text/x-python",
   "name": "python",
   "nbconvert_exporter": "python",
   "pygments_lexer": "ipython3",
   "version": "3.8.12"
  },
  "orig_nbformat": 4
 },
 "nbformat": 4,
 "nbformat_minor": 2
}
