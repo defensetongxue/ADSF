{
 "cells": [
  {
   "cell_type": "code",
   "execution_count": null,
   "metadata": {},
   "outputs": [],
   "source": [
    "from utils_nhop_neighbours import load_data\n",
    "adj, features,  idx_train, idx_val, idx_test,labels ,adj_ad= load_data('./data/citeseer/')"
   ]
  },
  {
   "cell_type": "code",
   "execution_count": null,
   "metadata": {},
   "outputs": [],
   "source": [
    "file=open('output.txt','wb')\n",
    "file.write(adj_ad)"
   ]
  },
  {
   "cell_type": "code",
   "execution_count": null,
   "metadata": {},
   "outputs": [],
   "source": []
  }
 ],
 "metadata": {
  "interpreter": {
   "hash": "ca457ca16272b85c978dbfca3c202f5bce62be3e46d9a573dabfb713afdf41cc"
  },
  "kernelspec": {
   "display_name": "Python 3.6.13 ('ADSF')",
   "language": "python",
   "name": "python3"
  },
  "language_info": {
   "name": "python",
   "version": "3.6.13"
  },
  "orig_nbformat": 4
 },
 "nbformat": 4,
 "nbformat_minor": 2
}
