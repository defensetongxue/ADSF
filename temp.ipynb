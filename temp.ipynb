{
 "cells": [
  {
   "cell_type": "code",
   "execution_count": 10,
   "metadata": {},
   "outputs": [
    {
     "name": "stderr",
     "output_type": "stream",
     "text": [
      "C:\\Users\\guoyi\\AppData\\Local\\Temp\\ipykernel_9352\\503540364.py:10: DtypeWarning: Columns (0) have mixed types. Specify dtype option on import or set low_memory=False.\n",
      "  data_content = pd.read_csv('./data/citeseer/citeseer.content',sep='\\t',header=None)\n"
     ]
    }
   ],
   "source": [
    "from cProfile import label\n",
    "import numpy as np\n",
    "import networkx as nx\n",
    "import scipy.sparse as sp\n",
    "import torch\n",
    "import pandas as pd\n",
    "train_val_test=[0.2,0.2,0.6]\n",
    "part_sum=train_val_test[0]+train_val_test[1]+train_val_test[2]\n",
    "assert part_sum==1,\"sum of train,val,test should be one \"\n",
    "data_content = pd.read_csv('./data/citeseer/citeseer.content',sep='\\t',header=None)\n",
    "data_edge = pd.read_csv('./data/citeseer/citeseer.cites',sep='\\t',header=None)\n",
    "\n",
    "data_idx=list(data_content.index)\n",
    "paper_id=list(data_content.iloc[:,0])\n",
    "data_map=dict(zip(paper_id,data_idx))\n",
    "data_edge=data_edge.applymap(data_map.get)\n",
    "labels=data_content.iloc[:,-1]\n",
    "labels=pd.get_dummies(labels)\n",
    "features= data_content.iloc[:,1:-1]\n",
    "node_number=data_content.shape[0]\n",
    "adj=np.eye(node_number)\n",
    "for i,j in zip(data_edge[0],data_edge[1]):\n",
    "    if str(i) in data_map.keys() and str(j) in data_map.keys():\n",
    "        x,y=data_map[str(i)],data_map[str(j)]\n",
    "        adj[x][y]=adj[y][x]=1\n",
    "\n",
    "# build graph# idx_map is maping the index of city to the consecutive integer\n",
    "\n",
    "idx_test = range(int(node_number*train_val_test[0]))\n",
    "idx_train = range(int(node_number*train_val_test[0]),int(node_number*train_val_test[1]))\n",
    "idx_val = range(int(node_number*train_val_test[1]), node_number)\n",
    "\n",
    "\n",
    "idx_train = torch.LongTensor(idx_train)\n",
    "idx_val = torch.LongTensor(idx_val)\n",
    "idx_test = torch.LongTensor(idx_test)\n",
    "    "
   ]
  },
  {
   "cell_type": "code",
   "execution_count": 12,
   "metadata": {},
   "outputs": [],
   "source": [
    "data_edge = pd.read_csv('./data/citeseer/citeseer.cites',sep='\\t',header=None)"
   ]
  },
  {
   "cell_type": "code",
   "execution_count": 19,
   "metadata": {},
   "outputs": [
    {
     "name": "stdout",
     "output_type": "stream",
     "text": [
      "0\n",
      "1\n"
     ]
    }
   ],
   "source": [
    "for i in data_edge:\n",
    "    print(i)"
   ]
  },
  {
   "cell_type": "code",
   "execution_count": 21,
   "metadata": {},
   "outputs": [
    {
     "data": {
      "text/plain": [
       "inf"
      ]
     },
     "execution_count": 21,
     "metadata": {},
     "output_type": "execute_result"
    }
   ],
   "source": [
    "\n",
    "float('inf')"
   ]
  }
 ],
 "metadata": {
  "interpreter": {
   "hash": "43a7118499b40531f443ce557743256dc2aee9545b07a8b927489bbe14e67446"
  },
  "kernelspec": {
   "display_name": "Python 3.8.12 ('ADSF')",
   "language": "python",
   "name": "python3"
  },
  "language_info": {
   "codemirror_mode": {
    "name": "ipython",
    "version": 3
   },
   "file_extension": ".py",
   "mimetype": "text/x-python",
   "name": "python",
   "nbconvert_exporter": "python",
   "pygments_lexer": "ipython3",
   "version": "3.8.12"
  },
  "orig_nbformat": 4
 },
 "nbformat": 4,
 "nbformat_minor": 2
}
